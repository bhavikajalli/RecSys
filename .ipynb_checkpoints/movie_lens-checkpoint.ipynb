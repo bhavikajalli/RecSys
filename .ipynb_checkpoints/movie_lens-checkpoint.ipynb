{
 "cells": [
  {
   "cell_type": "code",
   "execution_count": 1,
   "metadata": {
    "collapsed": true
   },
   "outputs": [],
   "source": [
    "import pandas as pd"
   ]
  },
  {
   "cell_type": "code",
   "execution_count": 20,
   "metadata": {},
   "outputs": [],
   "source": [
    "#Reading the four csv files in the MovieLens Downloaded data\n",
    "user_cols = ['user_id', 'age', 'gender', 'occupation', 'zip_code']\n",
    "users = pd.read_csv('../../../Downloads/ml-100k/u.user', sep='|', names=user_cols,encoding='latin-1')\n",
    "\n",
    "rating_cols = ['user_id', 'movie_id','rating', 'timestamp']\n",
    "ratings = pd.read_csv('../../../Downloads/ml-100k/u.data', sep='\\t', names=rating_cols,encoding='latin-1')\n",
    "\n",
    "movies_cols = ['movie_id','movie_title', 'release_date', 'video_release_date','IMDb_URL', 'unknown', 'Action', \n",
    "               'Adventure','Animation','Children', 'Comedy' , 'Crime', 'Documentary', 'Drama', 'Fantasy',\n",
    "              'Film_Noir',  'Horror',  'Musical', 'Mystery', 'Romance', 'Sci-Fi','Thriller','War','Western']\n",
    "movies = pd.read_csv('../../../Downloads/ml-100k/u.item', sep='|', names=movies_cols,encoding='latin-1')\n",
    "\n"
   ]
  },
  {
   "cell_type": "raw",
   "metadata": {},
   "source": []
  }
 ],
 "metadata": {
  "kernelspec": {
   "display_name": "Python 3",
   "language": "python",
   "name": "python3"
  },
  "language_info": {
   "codemirror_mode": {
    "name": "ipython",
    "version": 3
   },
   "file_extension": ".py",
   "mimetype": "text/x-python",
   "name": "python",
   "nbconvert_exporter": "python",
   "pygments_lexer": "ipython3",
   "version": "3.6.3"
  }
 },
 "nbformat": 4,
 "nbformat_minor": 2
}
